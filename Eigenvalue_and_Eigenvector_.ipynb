{
  "nbformat": 4,
  "nbformat_minor": 0,
  "metadata": {
    "colab": {
      "name": "Eigenvalue and Eigenvector .ipynb",
      "provenance": [],
      "authorship_tag": "ABX9TyOOnxr5Q1wYhofplhX5n+Sn",
      "include_colab_link": true
    },
    "kernelspec": {
      "name": "python3",
      "display_name": "Python 3"
    },
    "language_info": {
      "name": "python"
    }
  },
  "cells": [
    {
      "cell_type": "markdown",
      "metadata": {
        "id": "view-in-github",
        "colab_type": "text"
      },
      "source": [
        "<a href=\"https://colab.research.google.com/github/MichaelSumagui/Linear-Algebra-58020/blob/main/Eigenvalue_and_Eigenvector_.ipynb\" target=\"_parent\"><img src=\"https://colab.research.google.com/assets/colab-badge.svg\" alt=\"Open In Colab\"/></a>"
      ]
    },
    {
      "cell_type": "code",
      "metadata": {
        "colab": {
          "base_uri": "https://localhost:8080/"
        },
        "id": "4IPF5NHp2TGu",
        "outputId": "ea8aa0ea-7a8b-4e84-c2b2-8beb82f265d0"
      },
      "source": [
        "import numpy as np\n",
        "from numpy.linalg import eig\n",
        "\n",
        "A = np.array([[-5,3],[8,6]])\n",
        "print(A)\n",
        "\n",
        "inv_A = np.linalg.inv(A)\n",
        "print(inv_A)\n",
        "\n",
        "B=np.array([[0],[0]])\n",
        "print(B)\n",
        "\n",
        "X=np.dot(inv_A,B)\n",
        "print(X)"
      ],
      "execution_count": null,
      "outputs": [
        {
          "output_type": "stream",
          "name": "stdout",
          "text": [
            "[[-5  3]\n",
            " [ 8  6]]\n",
            "[[-0.11111111  0.05555556]\n",
            " [ 0.14814815  0.09259259]]\n",
            "[[0]\n",
            " [0]]\n",
            "[[0.]\n",
            " [0.]]\n"
          ]
        }
      ]
    },
    {
      "cell_type": "code",
      "metadata": {
        "colab": {
          "base_uri": "https://localhost:8080/"
        },
        "id": "w_UWzDoU1zL_",
        "outputId": "8905cbf0-e740-44ef-ed92-68adf02d5bca"
      },
      "source": [
        "A=np.array([[-3,8],[4,9]])\n",
        "print(A)\n",
        "\n",
        "w,v=np.linalg.eig(A)\n",
        "print(\"The eigenvalue/s is/are\",w)\n",
        "print(\"The eigenvector/s is/are\",v)"
      ],
      "execution_count": null,
      "outputs": [
        {
          "output_type": "stream",
          "name": "stdout",
          "text": [
            "[[-3  8]\n",
            " [ 4  9]]\n",
            "The eigenvalue/s is/are [-5.24621125 11.24621125]\n",
            "The eigenvector/s is/are [[-0.96276969 -0.48963374]\n",
            " [ 0.27032301 -0.87192821]]\n"
          ]
        }
      ]
    },
    {
      "cell_type": "code",
      "metadata": {
        "id": "l7SRhhoP2bQc"
      },
      "source": [
        "A=np.array([[1,2,3],[4,5,6],[7,8,9]])\n",
        "print(A)\n",
        "\n",
        "w,v = np.linalg.eig(A)\n",
        "print(\"The eigenvalue/s is/are:\",w.round())\n",
        "print(\"The eigenvector/s is/are:\",v.round())\n",
        "\n",
        "x=np.dot(A,v.round())\n",
        "print(x)\n",
        "\n",
        "X=np.array([[-1],[1],[-0]])\n",
        "Y=np.array([[-1],[1],[-1]])\n",
        "Z=np.array([[-1],[0],[-1]])\n",
        "\n",
        "\n",
        "d=np.dot(A,X)\n",
        "print(d)\n",
        "e=np.dot(A,Y)\n",
        "print(e)\n",
        "f=np.dot(A,Z)\n",
        "print(f)"
      ],
      "execution_count": null,
      "outputs": []
    }
  ]
}