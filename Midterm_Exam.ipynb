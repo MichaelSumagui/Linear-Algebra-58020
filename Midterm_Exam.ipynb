{
  "nbformat": 4,
  "nbformat_minor": 0,
  "metadata": {
    "colab": {
      "name": "Midterm Exam.ipynb",
      "provenance": [],
      "authorship_tag": "ABX9TyMZqNTD9WHHt7PbXnYjppOE",
      "include_colab_link": true
    },
    "kernelspec": {
      "name": "python3",
      "display_name": "Python 3"
    },
    "language_info": {
      "name": "python"
    }
  },
  "cells": [
    {
      "cell_type": "markdown",
      "metadata": {
        "id": "view-in-github",
        "colab_type": "text"
      },
      "source": [
        "<a href=\"https://colab.research.google.com/github/MichaelSumagui/Linear-Algebra-58020/blob/main/Midterm_Exam.ipynb\" target=\"_parent\"><img src=\"https://colab.research.google.com/assets/colab-badge.svg\" alt=\"Open In Colab\"/></a>"
      ]
    },
    {
      "cell_type": "markdown",
      "metadata": {
        "id": "58xemVPV48hW"
      },
      "source": [
        "Question 1"
      ]
    },
    {
      "cell_type": "code",
      "metadata": {
        "colab": {
          "base_uri": "https://localhost:8080/"
        },
        "id": "g0XqTwKK42uy",
        "outputId": "cfbec162-c10a-4cd2-be23-017552ef6d92"
      },
      "source": [
        "import numpy as np\n",
        "A = np.array ([[1,1,1,1,1],[2,2,2,2,2],[3,3,3,3,3],[4,4,4,4,4],[5,5,5,5,5]])\n",
        "print(A)"
      ],
      "execution_count": 3,
      "outputs": [
        {
          "output_type": "stream",
          "name": "stdout",
          "text": [
            "[[1 1 1 1 1]\n",
            " [2 2 2 2 2]\n",
            " [3 3 3 3 3]\n",
            " [4 4 4 4 4]\n",
            " [5 5 5 5 5]]\n"
          ]
        }
      ]
    },
    {
      "cell_type": "markdown",
      "metadata": {
        "id": "qAlKzw0Y6tou"
      },
      "source": [
        "Question 2"
      ]
    },
    {
      "cell_type": "code",
      "metadata": {
        "colab": {
          "base_uri": "https://localhost:8080/"
        },
        "id": "T3YPV9Qh6u1c",
        "outputId": "8e498d41-8508-467c-cefc-be14b939d078"
      },
      "source": [
        "import numpy as np\n",
        "A = np.array ([[1,1,1],[0,1,1],[0,0,1]])\n",
        "print(A)"
      ],
      "execution_count": 4,
      "outputs": [
        {
          "output_type": "stream",
          "name": "stdout",
          "text": [
            "[[1 1 1]\n",
            " [0 1 1]\n",
            " [0 0 1]]\n"
          ]
        }
      ]
    },
    {
      "cell_type": "markdown",
      "metadata": {
        "id": "urpFbmnf8A8A"
      },
      "source": [
        "Question 3"
      ]
    },
    {
      "cell_type": "code",
      "metadata": {
        "colab": {
          "base_uri": "https://localhost:8080/"
        },
        "id": "RsrW48zt8Lt2",
        "outputId": "26c65d25-5bd5-4972-b21c-757484518233"
      },
      "source": [
        "import numpy as np\n",
        "A = np.array ([[1,2,-3],[2,-4,5],[-3,5,1]])\n",
        "print(A)"
      ],
      "execution_count": 6,
      "outputs": [
        {
          "output_type": "stream",
          "name": "stdout",
          "text": [
            "[[ 1  2 -3]\n",
            " [ 2 -4  5]\n",
            " [-3  5  1]]\n"
          ]
        }
      ]
    },
    {
      "cell_type": "markdown",
      "metadata": {
        "id": "llKNHrd684sm"
      },
      "source": [
        "Question 4"
      ]
    },
    {
      "cell_type": "code",
      "metadata": {
        "colab": {
          "base_uri": "https://localhost:8080/"
        },
        "id": "lnDO8Fll859C",
        "outputId": "974eb19a-9dd9-47e7-ea64-f120805415d4"
      },
      "source": [
        "import numpy as np\n",
        "A = np.array ([[1,2,3],[2,3,3],[3,4,-2]])\n",
        "B = (np.linalg.inv(A))\n",
        "print(B)"
      ],
      "execution_count": 7,
      "outputs": [
        {
          "output_type": "stream",
          "name": "stdout",
          "text": [
            "[[-3.6  3.2 -0.6]\n",
            " [ 2.6 -2.2  0.6]\n",
            " [-0.2  0.4 -0.2]]\n"
          ]
        }
      ]
    },
    {
      "cell_type": "markdown",
      "metadata": {
        "id": "_en2Ni9S9me3"
      },
      "source": [
        "Question 5"
      ]
    },
    {
      "cell_type": "code",
      "metadata": {
        "colab": {
          "base_uri": "https://localhost:8080/"
        },
        "id": "rMtrG8FH9ogx",
        "outputId": "d80bee15-8c67-4dc3-ad6d-88ca7217f4a3"
      },
      "source": [
        "import numpy as np\n",
        "A = np.array ([[1,2,3],[2,3,3],[3,4,-2]])\n",
        "print(np.linalg.det(A))\n",
        "print(round(np.linalg.det(A)))"
      ],
      "execution_count": 10,
      "outputs": [
        {
          "output_type": "stream",
          "name": "stdout",
          "text": [
            "5.000000000000001\n",
            "5\n"
          ]
        }
      ]
    },
    {
      "cell_type": "markdown",
      "metadata": {
        "id": "pjLRI-Uf9qbI"
      },
      "source": [
        "Question 6"
      ]
    },
    {
      "cell_type": "code",
      "metadata": {
        "colab": {
          "base_uri": "https://localhost:8080/"
        },
        "id": "vZkfo2um9r4M",
        "outputId": "07737492-c741-4653-b841-9905d3e93f1e"
      },
      "source": [
        "import numpy as np\n",
        "A = np.array ([[5,4,1],[10,9,4],[10,13,15]])\n",
        "B = np.array ([[3.4],[8.8],[19.2]])\n",
        "\n",
        "roots = np.linalg.inv(A) @ B\n",
        "print(roots)"
      ],
      "execution_count": 13,
      "outputs": [
        {
          "output_type": "stream",
          "name": "stdout",
          "text": [
            "[[0.2]\n",
            " [0.4]\n",
            " [0.8]]\n"
          ]
        }
      ]
    }
  ]
}