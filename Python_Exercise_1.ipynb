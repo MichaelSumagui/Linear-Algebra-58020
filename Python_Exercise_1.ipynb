{
  "nbformat": 4,
  "nbformat_minor": 0,
  "metadata": {
    "colab": {
      "name": "Python Exercise 1",
      "provenance": [],
      "authorship_tag": "ABX9TyNFyQdqpAM3KswL7ubhVxW1",
      "include_colab_link": true
    },
    "kernelspec": {
      "name": "python3",
      "display_name": "Python 3"
    },
    "language_info": {
      "name": "python"
    }
  },
  "cells": [
    {
      "cell_type": "markdown",
      "metadata": {
        "id": "view-in-github",
        "colab_type": "text"
      },
      "source": [
        "<a href=\"https://colab.research.google.com/github/MichaelSumagui/Linear-Algebra-58020/blob/main/Python_Exercise_1.ipynb\" target=\"_parent\"><img src=\"https://colab.research.google.com/assets/colab-badge.svg\" alt=\"Open In Colab\"/></a>"
      ]
    },
    {
      "cell_type": "markdown",
      "metadata": {
        "id": "2NUmGp3iMjJn"
      },
      "source": [
        "Matrix and its Operations"
      ]
    },
    {
      "cell_type": "markdown",
      "metadata": {
        "id": "DRRmZqUXMOK3"
      },
      "source": [
        "Sum"
      ]
    },
    {
      "cell_type": "code",
      "metadata": {
        "colab": {
          "base_uri": "https://localhost:8080/"
        },
        "id": "3OsaI7EeCRxf",
        "outputId": "31798f01-693a-4ca8-d405-3273939e3275"
      },
      "source": [
        "import numpy as np\n",
        "\n",
        "a = np.array ([[-5,0],[4,1]])\n",
        "b = np.array ([[6,-3],[2,3]])\n",
        "print(a+b)"
      ],
      "execution_count": 11,
      "outputs": [
        {
          "output_type": "stream",
          "name": "stdout",
          "text": [
            "[[ 1 -3]\n",
            " [ 6  4]]\n"
          ]
        }
      ]
    },
    {
      "cell_type": "markdown",
      "metadata": {
        "id": "pgeMT_j8MPiH"
      },
      "source": [
        "Difference 1"
      ]
    },
    {
      "cell_type": "code",
      "metadata": {
        "colab": {
          "base_uri": "https://localhost:8080/"
        },
        "id": "yXjoO_JfMJOw",
        "outputId": "833980c7-0c82-47fb-9016-e8c3eadc911a"
      },
      "source": [
        "import numpy as np\n",
        "\n",
        "a = np.array ([[-5,0],[4,1]])\n",
        "b = np.array ([[6,-3],[2,3]])\n",
        "print(a-b)"
      ],
      "execution_count": 12,
      "outputs": [
        {
          "output_type": "stream",
          "name": "stdout",
          "text": [
            "[[-11   3]\n",
            " [  2  -2]]\n"
          ]
        }
      ]
    },
    {
      "cell_type": "markdown",
      "metadata": {
        "id": "h-ylgIAOMWxJ"
      },
      "source": [
        "Difference 2"
      ]
    },
    {
      "cell_type": "code",
      "metadata": {
        "colab": {
          "base_uri": "https://localhost:8080/"
        },
        "id": "lCkG_EhZMWcS",
        "outputId": "2fe279e8-ed7b-4a41-b00b-d2db4cea897b"
      },
      "source": [
        "import numpy as np\n",
        "\n",
        "a = np.array ([[-5,0],[4,1]])\n",
        "b = np.array ([[6,-3],[2,3]])\n",
        "print(b-b)"
      ],
      "execution_count": 13,
      "outputs": [
        {
          "output_type": "stream",
          "name": "stdout",
          "text": [
            "[[0 0]\n",
            " [0 0]]\n"
          ]
        }
      ]
    }
  ]
}