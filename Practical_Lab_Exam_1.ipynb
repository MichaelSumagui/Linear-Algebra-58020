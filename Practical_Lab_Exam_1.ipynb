{
  "nbformat": 4,
  "nbformat_minor": 0,
  "metadata": {
    "colab": {
      "name": "Practical Lab Exam 1.ipynb",
      "provenance": [],
      "authorship_tag": "ABX9TyMLh06mtkMHnPF6E/BkVb7o",
      "include_colab_link": true
    },
    "kernelspec": {
      "name": "python3",
      "display_name": "Python 3"
    },
    "language_info": {
      "name": "python"
    }
  },
  "cells": [
    {
      "cell_type": "markdown",
      "metadata": {
        "id": "view-in-github",
        "colab_type": "text"
      },
      "source": [
        "<a href=\"https://colab.research.google.com/github/MichaelSumagui/Linear-Algebra-58020/blob/main/Practical_Lab_Exam_1.ipynb\" target=\"_parent\"><img src=\"https://colab.research.google.com/assets/colab-badge.svg\" alt=\"Open In Colab\"/></a>"
      ]
    },
    {
      "cell_type": "markdown",
      "metadata": {
        "id": "csQE2OCuIuPI"
      },
      "source": [
        "1.a (WY)"
      ]
    },
    {
      "cell_type": "code",
      "metadata": {
        "colab": {
          "base_uri": "https://localhost:8080/"
        },
        "id": "22Di1N78Er4q",
        "outputId": "2569db93-0c0e-4229-f792-88d7feddbb23"
      },
      "source": [
        "import numpy as np\n",
        "W = np.array ([[1,-3],[2,-2],[3,1]])\n",
        "Y = np.array ([[1,2,0],[0,-1,2]])\n",
        "\n",
        "print(\"Vector W is\",W)\n",
        "print()\n",
        "print(\"Vector Y is\",Y)\n",
        "print()\n",
        "print(\"WY\")\n",
        "dot = np.dot(W,Y)\n",
        "print(dot)\n",
        "print()"
      ],
      "execution_count": 23,
      "outputs": [
        {
          "output_type": "stream",
          "name": "stdout",
          "text": [
            "Vector W is [[ 1 -3]\n",
            " [ 2 -2]\n",
            " [ 3  1]]\n",
            "\n",
            "Vector Y is [[ 1  2  0]\n",
            " [ 0 -1  2]]\n",
            "\n",
            "WY\n",
            "[[ 1  5 -6]\n",
            " [ 2  6 -4]\n",
            " [ 3  5  2]]\n",
            "\n"
          ]
        }
      ]
    },
    {
      "cell_type": "markdown",
      "metadata": {
        "id": "Y9jOdYYHIzs9"
      },
      "source": [
        "1.b (Z+Z)"
      ]
    },
    {
      "cell_type": "code",
      "metadata": {
        "colab": {
          "base_uri": "https://localhost:8080/"
        },
        "id": "-f5Wl77oHheY",
        "outputId": "21152837-3f8c-4a2f-dac1-a08f6b55ff43"
      },
      "source": [
        "import numpy as np\n",
        "Z = np.array ([[0,1],[2,3]])\n",
        "\n",
        "print(\"Vector Z is\", Z)"
      ],
      "execution_count": 6,
      "outputs": [
        {
          "output_type": "stream",
          "name": "stdout",
          "text": [
            "Vector Z is [[0 1]\n",
            " [2 3]]\n"
          ]
        }
      ]
    },
    {
      "cell_type": "code",
      "metadata": {
        "colab": {
          "base_uri": "https://localhost:8080/"
        },
        "id": "E7w_FRa7KCll",
        "outputId": "8e85b1f7-63c1-42d0-837d-9c560b52ebd1"
      },
      "source": [
        "R = np.add(Z,Z)\n",
        "R"
      ],
      "execution_count": 7,
      "outputs": [
        {
          "output_type": "execute_result",
          "data": {
            "text/plain": [
              "array([[0, 2],\n",
              "       [4, 6]])"
            ]
          },
          "metadata": {},
          "execution_count": 7
        }
      ]
    },
    {
      "cell_type": "markdown",
      "metadata": {
        "id": "qTy-svT9I1sU"
      },
      "source": [
        "1.c (3X)"
      ]
    },
    {
      "cell_type": "code",
      "metadata": {
        "colab": {
          "base_uri": "https://localhost:8080/"
        },
        "id": "9BGoJRoWI21t",
        "outputId": "e86cc8c4-c35d-4473-bdec-2db505b86165"
      },
      "source": [
        "import numpy as np\n",
        "X = np.array ([[3,2,1],[-1,2,3],[2,-1,1]])\n",
        "\n",
        "print(\"Vector X is\",X)\n",
        "print()\n",
        "print(\"3*X\")\n",
        "print(3*X)"
      ],
      "execution_count": 22,
      "outputs": [
        {
          "output_type": "stream",
          "name": "stdout",
          "text": [
            "Vector X is [[ 3  2  1]\n",
            " [-1  2  3]\n",
            " [ 2 -1  1]]\n",
            "\n",
            "3*X\n",
            "[[ 9  6  3]\n",
            " [-3  6  9]\n",
            " [ 6 -3  3]]\n"
          ]
        }
      ]
    },
    {
      "cell_type": "markdown",
      "metadata": {
        "id": "K7ofvZopPA3-"
      },
      "source": [
        "2.a (YW)^2\n",
        "\n"
      ]
    },
    {
      "cell_type": "code",
      "metadata": {
        "colab": {
          "base_uri": "https://localhost:8080/"
        },
        "id": "Gp9pQqU5OCnm",
        "outputId": "95f4f432-6639-4f78-a3e6-08a77e315aef"
      },
      "source": [
        "import numpy as np\n",
        "Y = np.array ([[1,2,0],[0,-1,2]])\n",
        "W = np.array ([[1,-3],[2,-2],[3,1]])\n",
        "\n",
        "print(\"Vector Y is\",Y)\n",
        "print()\n",
        "print(\"Vector W is\",W)\n",
        "print()\n",
        "print(\"(YW)^2\")\n",
        "print(np.dot(Y,W)^2)"
      ],
      "execution_count": 30,
      "outputs": [
        {
          "output_type": "stream",
          "name": "stdout",
          "text": [
            "Vector Y is [[ 1  2  0]\n",
            " [ 0 -1  2]]\n",
            "\n",
            "Vector W is [[ 1 -3]\n",
            " [ 2 -2]\n",
            " [ 3  1]]\n",
            "\n",
            "(YW)^2\n",
            "[[ 7 -5]\n",
            " [ 6  6]]\n"
          ]
        }
      ]
    },
    {
      "cell_type": "markdown",
      "metadata": {
        "id": "oCWpgzpfQeuu"
      },
      "source": [
        "2.b (WY - X)"
      ]
    },
    {
      "cell_type": "code",
      "metadata": {
        "colab": {
          "base_uri": "https://localhost:8080/"
        },
        "id": "96Fb0vyvQfzF",
        "outputId": "5f14ec65-13e6-4000-a4b3-b4355d8f2fb3"
      },
      "source": [
        "import numpy as np\n",
        "W = np.array ([[1,-3],[2,-2],[3,1]])\n",
        "Y = np.array ([[1,2,0],[0,-1,2]])\n",
        "X = np.array ([[3,2,1],[-1,2,3],[2,-1,1]])\n",
        "\n",
        "print(\"Vector W is\",W)\n",
        "print()\n",
        "print(\"Vector Y is\",Y)\n",
        "print()\n",
        "print(\"Vector X is\",X)\n",
        "print()\n",
        "print(\"WY-X\")\n",
        "dot = np.dot (W,Y)\n",
        "print(dot-X)"
      ],
      "execution_count": 21,
      "outputs": [
        {
          "output_type": "stream",
          "name": "stdout",
          "text": [
            "Vector W is [[ 1 -3]\n",
            " [ 2 -2]\n",
            " [ 3  1]]\n",
            "\n",
            "Vector Y is [[ 1  2  0]\n",
            " [ 0 -1  2]]\n",
            "\n",
            "Vector X is [[ 3  2  1]\n",
            " [-1  2  3]\n",
            " [ 2 -1  1]]\n",
            "\n",
            "WY-X\n",
            "[[-2  3 -7]\n",
            " [ 3  4 -7]\n",
            " [ 1  6  1]]\n"
          ]
        }
      ]
    },
    {
      "cell_type": "markdown",
      "metadata": {
        "id": "IgB7NyZwUigB"
      },
      "source": [
        "2.c (YW - Z^2)"
      ]
    },
    {
      "cell_type": "code",
      "metadata": {
        "colab": {
          "base_uri": "https://localhost:8080/"
        },
        "id": "InKGH9KRSpto",
        "outputId": "82aa9359-5dbc-4ce3-804d-0e561f39ed69"
      },
      "source": [
        "import numpy as np\n",
        "\n",
        "Y = np.array ([[1,2,0],[0,-1,2]])\n",
        "W = np.array ([[1,-3],[2,-2],[3,1]])\n",
        "Z = np.array ([[0,1],[2,3]])\n",
        "\n",
        "print(\"Vector Y is\",Y)\n",
        "print()\n",
        "print(\"Vector W is\",W)\n",
        "print()\n",
        "print(\"Vector Z is\",Z)\n",
        "print()\n",
        "print(\"(YW - Z^2)\")\n",
        "print(np.dot(Y,W)-Z^2)"
      ],
      "execution_count": 36,
      "outputs": [
        {
          "output_type": "stream",
          "name": "stdout",
          "text": [
            "Vector Y is [[ 1  2  0]\n",
            " [ 0 -1  2]]\n",
            "\n",
            "Vector W is [[ 1 -3]\n",
            " [ 2 -2]\n",
            " [ 3  1]]\n",
            "\n",
            "Vector Z is [[0 1]\n",
            " [2 3]]\n",
            "\n",
            "(YW - Z^2)\n",
            "[[ 7 -6]\n",
            " [ 0  3]]\n"
          ]
        }
      ]
    }
  ]
}