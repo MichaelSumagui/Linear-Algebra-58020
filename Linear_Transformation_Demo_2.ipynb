{
  "nbformat": 4,
  "nbformat_minor": 0,
  "metadata": {
    "colab": {
      "name": "Linear Transformation Demo 2.ipynb",
      "provenance": [],
      "authorship_tag": "ABX9TyPQUvigoIPC/VAqfFkb3QjV",
      "include_colab_link": true
    },
    "kernelspec": {
      "name": "python3",
      "display_name": "Python 3"
    },
    "language_info": {
      "name": "python"
    }
  },
  "cells": [
    {
      "cell_type": "markdown",
      "metadata": {
        "id": "view-in-github",
        "colab_type": "text"
      },
      "source": [
        "<a href=\"https://colab.research.google.com/github/MichaelSumagui/Linear-Algebra-58020/blob/main/Linear_Transformation_Demo_2.ipynb\" target=\"_parent\"><img src=\"https://colab.research.google.com/assets/colab-badge.svg\" alt=\"Open In Colab\"/></a>"
      ]
    },
    {
      "cell_type": "markdown",
      "metadata": {
        "id": "XHiyofmTnx5o"
      },
      "source": [
        "Linear Transformation"
      ]
    },
    {
      "cell_type": "code",
      "metadata": {
        "colab": {
          "base_uri": "https://localhost:8080/"
        },
        "id": "iFp_qDkelmiZ",
        "outputId": "1b840460-78d4-44e6-e209-7655a041f02b"
      },
      "source": [
        "import numpy as np\n",
        "A = np.array([[4,10,8],[10,26,26],[8,26,61]])\n",
        "print(A)\n",
        "inv_A = np.linalg.inv(A)\n",
        "print(inv_A)\n",
        "B = np.array([[44],[128],[214]])\n",
        "print(B)\n",
        "\n",
        "X = np.dot(inv_A,B)\n",
        "print(X)"
      ],
      "execution_count": 2,
      "outputs": [
        {
          "output_type": "stream",
          "name": "stdout",
          "text": [
            "[[ 4 10  8]\n",
            " [10 26 26]\n",
            " [ 8 26 61]]\n",
            "[[ 25.27777778 -11.16666667   1.44444444]\n",
            " [-11.16666667   5.          -0.66666667]\n",
            " [  1.44444444  -0.66666667   0.11111111]]\n",
            "[[ 44]\n",
            " [128]\n",
            " [214]]\n",
            "[[-8.]\n",
            " [ 6.]\n",
            " [ 2.]]\n"
          ]
        }
      ]
    }
  ]
}